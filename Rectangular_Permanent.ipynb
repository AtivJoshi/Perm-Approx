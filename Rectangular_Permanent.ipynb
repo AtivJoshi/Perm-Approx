{
 "cells": [
  {
   "cell_type": "code",
   "execution_count": 1,
   "metadata": {},
   "outputs": [],
   "source": [
    "import itertools\n",
    "import numpy as np\n",
    "from scipy.optimize import minimize\n",
    "from scipy.optimize import Bounds\n",
    "from scipy.optimize import LinearConstraint\n",
    "from scipy.optimize import NonlinearConstraint\n",
    "from scipy.optimize import SR1\n",
    "from sinkhorn_knopp import sinkhorn_knopp as skp\n",
    "from scipy.optimize import show_options\n",
    "from scipy.special import comb"
   ]
  },
  {
   "cell_type": "code",
   "execution_count": 2,
   "metadata": {},
   "outputs": [],
   "source": [
    "#@Author: Rajit Datta\n",
    "# Takes a list of n values and computes \n",
    "# the kth elementary symmetric polynomial of the list L (assuming n >=k) using newton identities\n",
    "def comp_snk(L,k):\n",
    "    n=len(L)\n",
    "    snklist=[1]\n",
    "    powersums=[n]\n",
    "    for i in range(1,k+1):\n",
    "        powersums.append(sum([x**i for x in L]))\n",
    "\n",
    "    for t in range(1,k+1):\n",
    "        s=0\n",
    "        for i in range(1,t+1):\n",
    "            s=s+((-1)**(i-1))*snklist[t-i]*powersums[i]    \n",
    "        snklist.append((s/float(t)))\n",
    "    return snklist[-1]\n",
    "\n",
    "# takes a bin(i) type of input for \n",
    "# i < 2^n and returns an integer list of length n containing 0,1 at the bit positions\n",
    "def conv(s,n): \n",
    "    sts=s[2:]\n",
    "    st=\"0\"*(n - len(sts))+sts\n",
    "    #print(st)\n",
    "    lis=map(int , map(lambda x: x+\"\" , st))\n",
    "    return(list(lis))\n",
    "\n",
    "def factorial(i): #computes i!\n",
    "    f=1\n",
    "    for j in range(1,i+1):\n",
    "        f=f*j\n",
    "    return f\n",
    "\n",
    "#Computes rectangular permanent of k x n matrix where k <= n. Takes a numpy matrix as input\n",
    "def permanent(B): \n",
    "    k=np.size(B,0)\n",
    "    n=np.size(B,1)\n",
    "    if k > n: #Transpose the matrix if needed\n",
    "        B=B.T\n",
    "\n",
    "    k=np.size(B,0)\n",
    "    n=np.size(B,1)\n",
    "    p=0 # p for permanent\n",
    "    ao=np.matrix([1]*k) #all 1 vector\n",
    "\n",
    "    for i in range(0,2**k): #Implements Ryser formula and apolarity\n",
    "        st=conv(bin(i),k)\n",
    "        x=np.matrix(st)\n",
    "        vec=(x*B).tolist()[0]\n",
    "        p=p + ((-1.0)**((ao*x.transpose())[0,0]))*comp_snk(vec,k)\n",
    "#         if np.mod(i,(2**k)/100)==0:\n",
    "#             print(i/100)\n",
    "\n",
    "    return (((-1)**k)*p)"
   ]
  },
  {
   "cell_type": "code",
   "execution_count": 3,
   "metadata": {},
   "outputs": [],
   "source": [
    "import warnings\n",
    "\n",
    "import numpy as np\n",
    "\n",
    "\n",
    "class SinkhornKnoppR:\n",
    "\n",
    "    def __init__(self, max_iter=1000, epsilon=1e-3):\n",
    "        assert isinstance(max_iter, int) or isinstance(max_iter, float),\\\n",
    "            \"max_iter is not of type int or float: %r\" % max_iter\n",
    "        assert max_iter > 0,\\\n",
    "            \"max_iter must be greater than 0: %r\" % max_iter\n",
    "        self._max_iter = int(max_iter)\n",
    "\n",
    "        assert isinstance(epsilon, int) or isinstance(epsilon, float),\\\n",
    "            \"epsilon is not of type float or int: %r\" % epsilon\n",
    "        assert epsilon > 0 and epsilon < 1,\\\n",
    "            \"epsilon must be between 0 and 1 exclusive: %r\" % epsilon\n",
    "        self._epsilon = epsilon\n",
    "\n",
    "        self._stopping_condition = None\n",
    "        self._iterations = 0\n",
    "        self._D1 = np.ones(1)\n",
    "        self._D2 = np.ones(1)\n",
    "\n",
    "    def fit(self, P):\n",
    "        \"\"\"Fit the diagonal matrices in Sinkhorn Knopp's algorithm\n",
    "        Parameters\n",
    "        ----------\n",
    "        P : 2d array-like\n",
    "        Must be a square non-negative 2d array-like object, that\n",
    "        is convertible to a numpy array. The matrix must not be\n",
    "        equal to 0 and it must have total support for the algorithm\n",
    "        to converge.\n",
    "        Returns\n",
    "        -------\n",
    "        A double stochastic matrix.\n",
    "        \"\"\"\n",
    "        P = np.asarray(P)\n",
    "        assert np.all(P >= 0)\n",
    "        assert P.ndim == 2\n",
    "#         assert P.shape[0] == P.shape[1]\n",
    "\n",
    "        N = P.shape[0]\n",
    "        max_thresh = 1 + self._epsilon\n",
    "        min_thresh = 1 - self._epsilon\n",
    "\n",
    "        # Initialize r and c, the diagonals of D1 and D2\n",
    "        # and warn if the matrix does not have support.\n",
    "        r = np.ones((N, 1))\n",
    "        pdotr = P.T.dot(r)\n",
    "#         print('pdotr: ', pdotr)\n",
    "        total_support_warning_str = (\n",
    "            \"Matrix P must have total support. \"\n",
    "            \"See documentation\"\n",
    "        )\n",
    "        if not np.all(pdotr != 0):\n",
    "            warnings.warn(total_support_warning_str, UserWarning)\n",
    "        \n",
    "        c = 1 / pdotr\n",
    "#         print('c: ',c)\n",
    "        pdotc = P.dot(c)\n",
    "#         print('pdotc: ',pdotc)\n",
    "        if not np.all(pdotc != 0):\n",
    "            warnings.warn(total_support_warning_str, UserWarning)\n",
    "\n",
    "        \n",
    "        r = 1 / pdotc\n",
    "#         print('r: ',r.shape)\n",
    "        del pdotr, pdotc\n",
    "\n",
    "        P_eps = np.copy(P)\n",
    "        while (np.any(np.sum(P_eps, axis=1) < min_thresh) \\\n",
    "                or np.any(np.sum(P_eps, axis=1) > max_thresh) \\\n",
    "                or np.any(np.sum(P_eps, axis=0) < min_thresh) \\\n",
    "                or np.any(np.sum(P_eps, axis=0) > max_thresh))\\\n",
    "                and np.any(~(r<1e-300)):\n",
    "            \n",
    "            \n",
    "            c = 1 / P.T.dot(r)\n",
    "            r = 1 / P.dot(c)\n",
    "            \n",
    "#             print('c: ',c, '\\n', 'r: ',r)\n",
    "            \n",
    "            self._D1 = np.diag(np.squeeze(r))\n",
    "            self._D2 = np.diag(np.squeeze(c))\n",
    "            P_eps = self._D1.dot(P).dot(self._D2)\n",
    "#             print('P_eps: ',P_eps)\n",
    "            self._iterations += 1\n",
    "\n",
    "            if self._iterations >= self._max_iter:\n",
    "                self._stopping_condition = \"max_iter\"\n",
    "                break\n",
    "\n",
    "        if not self._stopping_condition:\n",
    "            self._stopping_condition = \"epsilon\"\n",
    "\n",
    "        self._D1 = np.diag(np.squeeze(r))\n",
    "        self._D2 = np.diag(np.squeeze(c))\n",
    "        P_eps = self._D1.dot(P).dot(self._D2)\n",
    "\n",
    "        return P_eps"
   ]
  },
  {
   "cell_type": "code",
   "execution_count": 4,
   "metadata": {},
   "outputs": [],
   "source": [
    "def f_bp(P):\n",
    "    \n",
    "    def f_bp_p(beta):\n",
    "        k=P.shape[0]\n",
    "        n=P.shape[1]\n",
    "        z=0\n",
    "#         print(beta.sum())\n",
    "        beta=beta.reshape(k,n)\n",
    "#         print(beta)\n",
    "        for i in range(k):\n",
    "            for j in range(n):\n",
    "                \n",
    "#                 if beta[i,j]<0:\n",
    "#                     print(beta[i,j])\n",
    "                if beta[i,j]<1 and beta[i,j]>0 and P[i,j]>0: \n",
    "                    z+=beta[i,j]*np.log(beta[i,j]/P[i,j])-(1-beta[i,j])*np.log(1-beta[i,j])\n",
    "#                     print(z)\n",
    "                \n",
    "        return z\n",
    "    return f_bp_p"
   ]
  },
  {
   "cell_type": "code",
   "execution_count": 5,
   "metadata": {},
   "outputs": [],
   "source": [
    "def constraint_matrix(n,k):\n",
    "    m=np.zeros([n+k,n*k])\n",
    "    for i in range(n):\n",
    "        m[i,i*k:i*k+k]=1\n",
    "    for i in range(k):\n",
    "        for j in range(i,n*k,k):\n",
    "            m[i+n,j]=1\n",
    "    \n",
    "    return m"
   ]
  },
  {
   "cell_type": "code",
   "execution_count": 6,
   "metadata": {},
   "outputs": [],
   "source": [
    "np.random.seed(69);\n",
    "P=np.random.randint(1000,size=(8,20));#P=np.kron(np.eye(2,2),np.ones((2,2)))\n",
    "temp=np.random.rand(P.shape[0],P.shape[1]);\n",
    "for i in range(P.shape[0]):\n",
    "    for j in range(P.shape[1]):\n",
    "        if P[i,j]==0:\n",
    "            temp[i,j]=0"
   ]
  },
  {
   "cell_type": "code",
   "execution_count": 8,
   "metadata": {},
   "outputs": [],
   "source": [
    "sk = SinkhornKnoppR()\n",
    "temp_ds=sk.fit(temp);\n",
    "f=f_bp(P);\n",
    "m=constraint_matrix(P.shape[0],P.shape[1]);\n",
    "b1=np.append([np.ones(P.shape[0])], [np.zeros(P.shape[1])]);\n",
    "b2=np.append([np.ones(P.shape[0])], [np.ones(P.shape[1])]);\n",
    "linear_constraint=LinearConstraint(m,b1,b2)\n",
    "bounds = Bounds(0,1);"
   ]
  },
  {
   "cell_type": "code",
   "execution_count": 11,
   "metadata": {},
   "outputs": [
    {
     "name": "stderr",
     "output_type": "stream",
     "text": [
      "/home/ativ/cmi/lib/python3.5/site-packages/scipy/optimize/_hessian_update_strategy.py:187: UserWarning: delta_grad == 0.0. Check if the approximated function is linear. If the function is linear better results can be obtained by defining the Hessian as zero instead of using quasi-Newton approximations.\n",
      "  'approximations.', UserWarning)\n"
     ]
    },
    {
     "name": "stdout",
     "output_type": "stream",
     "text": [
      "`xtol` termination condition is satisfied.\n",
      "Number of iterations: 251, function evaluations: 44114, CG iterations: 4424, optimality: 1.47e-08, constraint violation: 2.22e-16, execution time: 9.1e+01 s.\n"
     ]
    }
   ],
   "source": [
    "res = minimize(f, temp_ds.flatten(), method='trust-constr',\n",
    "...                constraints=[linear_constraint],\n",
    "...                options={'verbose': 1, 'maxiter':1000, 'xtol':1e-17, 'gtol':1e-17}, bounds=bounds)"
   ]
  },
  {
   "cell_type": "code",
   "execution_count": 12,
   "metadata": {},
   "outputs": [
    {
     "name": "stdout",
     "output_type": "stream",
     "text": [
      "lb:  3.3314667159371913e+28\n",
      "ub:  5.330346745499508e+29\n",
      "per: 1.4971437402087266e+31\n",
      "False\n"
     ]
    }
   ],
   "source": [
    "t=(res.x).reshape(P.shape[0],P.shape[1])\n",
    "n=P.shape[0]\n",
    "m=P.shape[1]\n",
    "lb=np.exp(-f(t));\n",
    "print('lb: ', lb)#format(lb,\".2E\")\n",
    "ub=lb*(np.sqrt(2)**P.shape[0]);print('ub: ',ub)\n",
    "per=permanent(P);print('per:',per)\n",
    "if lb<=per<=ub:\n",
    "    print(True)\n",
    "else:\n",
    "    print(False)"
   ]
  },
  {
   "cell_type": "code",
   "execution_count": null,
   "metadata": {},
   "outputs": [],
   "source": [
    "\n",
    "np.random.seed(69);\n",
    "P=np.random.randint(1000,size=(3,5));#P=np.kron(np.eye(2,2),np.ones((2,2)))\n",
    "temp=np.random.rand(P.shape[0],P.shape[1]);\n",
    "for i in range(P.shape[0]):\n",
    "    for j in range(P.shape[1]):\n",
    "        if P[i,j]==0:\n",
    "            temp[i,j]=0\n",
    "\n",
    "sk = SinkhornKnoppR()\n",
    "temp_ds=sk.fit(temp);\n",
    "f=f_bp(P);\n",
    "m=constraint_matrix(P.shape[0],P.shape[1]);\n",
    "b1=np.append([np.ones(P.shape[0])], [np.zeros(P.shape[1])]);\n",
    "b2=np.append([np.ones(P.shape[0])], [np.ones(P.shape[1])]);\n",
    "linear_constraint=LinearConstraint(m,b1,b2)\n",
    "bounds = Bounds(0,1);\n",
    "\n",
    "res = minimize(f, temp_ds.flatten(), method='trust-constr',\n",
    "...                constraints=[linear_constraint],\n",
    "...                options={'verbose': 1, 'maxiter':1000, 'xtol':1e-8}, bounds=bounds)\n",
    "\n",
    "t=(res.x).reshape(P.shape[0],P.shape[1])\n",
    "n=P.shape[0]\n",
    "m=P.shape[1]\n",
    "lb=np.exp(-f(t))/(n**(m-n));\n",
    "print('lb: ', lb)#format(lb,\".2E\")\n",
    "ub=lb*(np.sqrt(2)**P.shape[0]);print('ub: ',ub)\n",
    "per=permanent(P);print('per:',per)\n",
    "if lb<=per<=ub:\n",
    "    print(True)\n",
    "else:\n",
    "    print(False)"
   ]
  },
  {
   "cell_type": "code",
   "execution_count": 22,
   "metadata": {},
   "outputs": [
    {
     "name": "stdout",
     "output_type": "stream",
     "text": [
      "lb:  207882295635.55002\n",
      "ub:  1175959847460.1929\n",
      "per: 5954357867753.0\n",
      "False\n"
     ]
    }
   ],
   "source": [
    "t=(res.x).reshape(P.shape[0],P.shape[1])\n",
    "\n",
    "lb=np.exp(-f(t));\n",
    "print('lb: ', lb)#format(lb,\".2E\")\n",
    "ub=np.exp(-f(t))*(np.sqrt(2)**P.shape[0]);print('ub: ',ub)\n",
    "per=permanent(P);print('per:',per)\n",
    "if lb<=per<=ub:\n",
    "    print(True)\n",
    "else:\n",
    "    print(False)"
   ]
  },
  {
   "cell_type": "code",
   "execution_count": 61,
   "metadata": {},
   "outputs": [
    {
     "data": {
      "text/plain": [
       "array([[54, 75, 73, 90, 55],\n",
       "       [20, 49, 22,  9, 56],\n",
       "       [97, 38, 96, 88, 12]])"
      ]
     },
     "execution_count": 61,
     "metadata": {},
     "output_type": "execute_result"
    }
   ],
   "source": [
    "P"
   ]
  },
  {
   "cell_type": "code",
   "execution_count": 63,
   "metadata": {},
   "outputs": [
    {
     "data": {
      "text/plain": [
       "array([[ 54, 203, 969, 619, 602],\n",
       "       [439, 404, 561, 278,   9],\n",
       "       [184, 225, 806, 352,  88]])"
      ]
     },
     "execution_count": 63,
     "metadata": {},
     "output_type": "execute_result"
    }
   ],
   "source": [
    "P"
   ]
  },
  {
   "cell_type": "code",
   "execution_count": 10,
   "metadata": {
    "collapsed": true
   },
   "outputs": [
    {
     "name": "stdout",
     "output_type": "stream",
     "text": [
      "2 0\n",
      "lb:  133378.25381397162\n",
      "ub:  533513.0152558865\n",
      "per: 1144560.0\n",
      "ratio:  2.149586457352695\n",
      "False\n",
      "2 1\n",
      "lb:  86362.83143493543\n",
      "ub:  345451.32573974173\n",
      "per: 861280.0\n",
      "ratio:  2.2998622632869283\n",
      "False\n"
     ]
    },
    {
     "ename": "KeyboardInterrupt",
     "evalue": "",
     "output_type": "error",
     "traceback": [
      "\u001b[0;31m---------------------------------------------------------------------------\u001b[0m",
      "\u001b[0;31mKeyboardInterrupt\u001b[0m                         Traceback (most recent call last)",
      "\u001b[0;32m<ipython-input-10-9b7d88f14434>\u001b[0m in \u001b[0;36m<module>\u001b[0;34m\u001b[0m\n\u001b[1;32m     25\u001b[0m \u001b[0;34m\u001b[0m\u001b[0m\n\u001b[1;32m     26\u001b[0m         res = minimize(f, temp_ds.flatten(), method='trust-constr',constraints=[linear_constraint],\n\u001b[0;32m---> 27\u001b[0;31m                        options={'verbose': 0, 'maxiter':1000, 'xtol':1e-8}, bounds=bounds)\n\u001b[0m\u001b[1;32m     28\u001b[0m \u001b[0;34m\u001b[0m\u001b[0m\n\u001b[1;32m     29\u001b[0m         \u001b[0mt\u001b[0m\u001b[0;34m=\u001b[0m\u001b[0;34m(\u001b[0m\u001b[0mres\u001b[0m\u001b[0;34m.\u001b[0m\u001b[0mx\u001b[0m\u001b[0;34m)\u001b[0m\u001b[0;34m.\u001b[0m\u001b[0mreshape\u001b[0m\u001b[0;34m(\u001b[0m\u001b[0mP\u001b[0m\u001b[0;34m.\u001b[0m\u001b[0mshape\u001b[0m\u001b[0;34m[\u001b[0m\u001b[0;36m0\u001b[0m\u001b[0;34m]\u001b[0m\u001b[0;34m,\u001b[0m\u001b[0mP\u001b[0m\u001b[0;34m.\u001b[0m\u001b[0mshape\u001b[0m\u001b[0;34m[\u001b[0m\u001b[0;36m1\u001b[0m\u001b[0;34m]\u001b[0m\u001b[0;34m)\u001b[0m\u001b[0;34m\u001b[0m\u001b[0m\n",
      "\u001b[0;32m~/cmi/lib/python3.5/site-packages/scipy/optimize/_minimize.py\u001b[0m in \u001b[0;36mminimize\u001b[0;34m(fun, x0, args, method, jac, hess, hessp, bounds, constraints, tol, callback, options)\u001b[0m\n\u001b[1;32m    611\u001b[0m         return _minimize_trustregion_constr(fun, x0, args, jac, hess, hessp,\n\u001b[1;32m    612\u001b[0m                                             \u001b[0mbounds\u001b[0m\u001b[0;34m,\u001b[0m \u001b[0mconstraints\u001b[0m\u001b[0;34m,\u001b[0m\u001b[0;34m\u001b[0m\u001b[0m\n\u001b[0;32m--> 613\u001b[0;31m                                             callback=callback, **options)\n\u001b[0m\u001b[1;32m    614\u001b[0m     \u001b[0;32melif\u001b[0m \u001b[0mmeth\u001b[0m \u001b[0;34m==\u001b[0m \u001b[0;34m'dogleg'\u001b[0m\u001b[0;34m:\u001b[0m\u001b[0;34m\u001b[0m\u001b[0m\n\u001b[1;32m    615\u001b[0m         return _minimize_dogleg(fun, x0, args, jac, hess,\n",
      "\u001b[0;32m~/cmi/lib/python3.5/site-packages/scipy/optimize/_trustregion_constr/minimize_trustregion_constr.py\u001b[0m in \u001b[0;36m_minimize_trustregion_constr\u001b[0;34m(fun, x0, args, grad, hess, hessp, bounds, constraints, xtol, gtol, barrier_tol, sparse_jacobian, callback, maxiter, verbose, finite_diff_rel_step, initial_constr_penalty, initial_tr_radius, initial_barrier_parameter, initial_barrier_tolerance, factorization_method, disp)\u001b[0m\n\u001b[1;32m    512\u001b[0m             \u001b[0minitial_barrier_tolerance\u001b[0m\u001b[0;34m,\u001b[0m\u001b[0;34m\u001b[0m\u001b[0m\n\u001b[1;32m    513\u001b[0m             \u001b[0minitial_constr_penalty\u001b[0m\u001b[0;34m,\u001b[0m \u001b[0minitial_tr_radius\u001b[0m\u001b[0;34m,\u001b[0m\u001b[0;34m\u001b[0m\u001b[0m\n\u001b[0;32m--> 514\u001b[0;31m             factorization_method)\n\u001b[0m\u001b[1;32m    515\u001b[0m \u001b[0;34m\u001b[0m\u001b[0m\n\u001b[1;32m    516\u001b[0m     \u001b[0;31m# Status 3 occurs when the callback function requests termination,\u001b[0m\u001b[0;34m\u001b[0m\u001b[0;34m\u001b[0m\u001b[0m\n",
      "\u001b[0;32m~/cmi/lib/python3.5/site-packages/scipy/optimize/_trustregion_constr/tr_interior_point.py\u001b[0m in \u001b[0;36mtr_interior_point\u001b[0;34m(fun, grad, lagr_hess, n_vars, n_ineq, n_eq, constr, jac, x0, fun0, grad0, constr_ineq0, jac_ineq0, constr_eq0, jac_eq0, stop_criteria, enforce_feasibility, xtol, state, initial_barrier_parameter, initial_tolerance, initial_penalty, initial_trust_radius, factorization_method)\u001b[0m\n\u001b[1;32m    327\u001b[0m             \u001b[0mconstr0_subprob\u001b[0m\u001b[0;34m,\u001b[0m \u001b[0mjac0_subprob\u001b[0m\u001b[0;34m,\u001b[0m \u001b[0msubprob\u001b[0m\u001b[0;34m.\u001b[0m\u001b[0mstop_criteria\u001b[0m\u001b[0;34m,\u001b[0m\u001b[0;34m\u001b[0m\u001b[0m\n\u001b[1;32m    328\u001b[0m             \u001b[0mstate\u001b[0m\u001b[0;34m,\u001b[0m \u001b[0minitial_penalty\u001b[0m\u001b[0;34m,\u001b[0m \u001b[0mtrust_radius\u001b[0m\u001b[0;34m,\u001b[0m\u001b[0;34m\u001b[0m\u001b[0m\n\u001b[0;32m--> 329\u001b[0;31m             factorization_method, trust_lb, trust_ub, subprob.scaling)\n\u001b[0m\u001b[1;32m    330\u001b[0m         \u001b[0;32mif\u001b[0m \u001b[0msubprob\u001b[0m\u001b[0;34m.\u001b[0m\u001b[0mterminate\u001b[0m\u001b[0;34m:\u001b[0m\u001b[0;34m\u001b[0m\u001b[0m\n\u001b[1;32m    331\u001b[0m             \u001b[0;32mbreak\u001b[0m\u001b[0;34m\u001b[0m\u001b[0m\n",
      "\u001b[0;32m~/cmi/lib/python3.5/site-packages/scipy/optimize/_trustregion_constr/equality_constrained_sqp.py\u001b[0m in \u001b[0;36mequality_constrained_sqp\u001b[0;34m(fun_and_constr, grad_and_jac, lagr_hess, x0, fun0, grad0, constr0, jac0, stop_criteria, state, initial_penalty, initial_trust_radius, factorization_method, trust_lb, trust_ub, scaling)\u001b[0m\n\u001b[1;32m    146\u001b[0m         \u001b[0;31m# Evaluate function and constraints at trial point\u001b[0m\u001b[0;34m\u001b[0m\u001b[0;34m\u001b[0m\u001b[0m\n\u001b[1;32m    147\u001b[0m         \u001b[0mx_next\u001b[0m \u001b[0;34m=\u001b[0m \u001b[0mx\u001b[0m \u001b[0;34m+\u001b[0m \u001b[0mS\u001b[0m\u001b[0;34m.\u001b[0m\u001b[0mdot\u001b[0m\u001b[0;34m(\u001b[0m\u001b[0md\u001b[0m\u001b[0;34m)\u001b[0m\u001b[0;34m\u001b[0m\u001b[0m\n\u001b[0;32m--> 148\u001b[0;31m         \u001b[0mf_next\u001b[0m\u001b[0;34m,\u001b[0m \u001b[0mb_next\u001b[0m \u001b[0;34m=\u001b[0m \u001b[0mfun_and_constr\u001b[0m\u001b[0;34m(\u001b[0m\u001b[0mx_next\u001b[0m\u001b[0;34m)\u001b[0m\u001b[0;34m\u001b[0m\u001b[0m\n\u001b[0m\u001b[1;32m    149\u001b[0m         \u001b[0;31m# Compute merit function at trial point\u001b[0m\u001b[0;34m\u001b[0m\u001b[0;34m\u001b[0m\u001b[0m\n\u001b[1;32m    150\u001b[0m         \u001b[0mmerit_function_next\u001b[0m \u001b[0;34m=\u001b[0m \u001b[0mf_next\u001b[0m \u001b[0;34m+\u001b[0m \u001b[0mpenalty\u001b[0m\u001b[0;34m*\u001b[0m\u001b[0mnorm\u001b[0m\u001b[0;34m(\u001b[0m\u001b[0mb_next\u001b[0m\u001b[0;34m)\u001b[0m\u001b[0;34m\u001b[0m\u001b[0m\n",
      "\u001b[0;32m~/cmi/lib/python3.5/site-packages/scipy/optimize/_trustregion_constr/tr_interior_point.py\u001b[0m in \u001b[0;36mfunction_and_constraints\u001b[0;34m(self, z)\u001b[0m\n\u001b[1;32m     81\u001b[0m         \u001b[0ms\u001b[0m \u001b[0;34m=\u001b[0m \u001b[0mself\u001b[0m\u001b[0;34m.\u001b[0m\u001b[0mget_slack\u001b[0m\u001b[0;34m(\u001b[0m\u001b[0mz\u001b[0m\u001b[0;34m)\u001b[0m\u001b[0;34m\u001b[0m\u001b[0m\n\u001b[1;32m     82\u001b[0m         \u001b[0;31m# Compute function and constraints\u001b[0m\u001b[0;34m\u001b[0m\u001b[0;34m\u001b[0m\u001b[0m\n\u001b[0;32m---> 83\u001b[0;31m         \u001b[0mf\u001b[0m \u001b[0;34m=\u001b[0m \u001b[0mself\u001b[0m\u001b[0;34m.\u001b[0m\u001b[0mfun\u001b[0m\u001b[0;34m(\u001b[0m\u001b[0mx\u001b[0m\u001b[0;34m)\u001b[0m\u001b[0;34m\u001b[0m\u001b[0m\n\u001b[0m\u001b[1;32m     84\u001b[0m         \u001b[0mc_eq\u001b[0m\u001b[0;34m,\u001b[0m \u001b[0mc_ineq\u001b[0m \u001b[0;34m=\u001b[0m \u001b[0mself\u001b[0m\u001b[0;34m.\u001b[0m\u001b[0mconstr\u001b[0m\u001b[0;34m(\u001b[0m\u001b[0mx\u001b[0m\u001b[0;34m)\u001b[0m\u001b[0;34m\u001b[0m\u001b[0m\n\u001b[1;32m     85\u001b[0m         \u001b[0;31m# Return objective function and constraints\u001b[0m\u001b[0;34m\u001b[0m\u001b[0;34m\u001b[0m\u001b[0m\n",
      "\u001b[0;32m~/cmi/lib/python3.5/site-packages/scipy/optimize/_differentiable_functions.py\u001b[0m in \u001b[0;36mfun\u001b[0;34m(self, x)\u001b[0m\n\u001b[1;32m    177\u001b[0m     \u001b[0;32mdef\u001b[0m \u001b[0mfun\u001b[0m\u001b[0;34m(\u001b[0m\u001b[0mself\u001b[0m\u001b[0;34m,\u001b[0m \u001b[0mx\u001b[0m\u001b[0;34m)\u001b[0m\u001b[0;34m:\u001b[0m\u001b[0;34m\u001b[0m\u001b[0m\n\u001b[1;32m    178\u001b[0m         \u001b[0;32mif\u001b[0m \u001b[0;32mnot\u001b[0m \u001b[0mnp\u001b[0m\u001b[0;34m.\u001b[0m\u001b[0marray_equal\u001b[0m\u001b[0;34m(\u001b[0m\u001b[0mx\u001b[0m\u001b[0;34m,\u001b[0m \u001b[0mself\u001b[0m\u001b[0;34m.\u001b[0m\u001b[0mx\u001b[0m\u001b[0;34m)\u001b[0m\u001b[0;34m:\u001b[0m\u001b[0;34m\u001b[0m\u001b[0m\n\u001b[0;32m--> 179\u001b[0;31m             \u001b[0mself\u001b[0m\u001b[0;34m.\u001b[0m\u001b[0m_update_x_impl\u001b[0m\u001b[0;34m(\u001b[0m\u001b[0mx\u001b[0m\u001b[0;34m)\u001b[0m\u001b[0;34m\u001b[0m\u001b[0m\n\u001b[0m\u001b[1;32m    180\u001b[0m         \u001b[0mself\u001b[0m\u001b[0;34m.\u001b[0m\u001b[0m_update_fun\u001b[0m\u001b[0;34m(\u001b[0m\u001b[0;34m)\u001b[0m\u001b[0;34m\u001b[0m\u001b[0m\n\u001b[1;32m    181\u001b[0m         \u001b[0;32mreturn\u001b[0m \u001b[0mself\u001b[0m\u001b[0;34m.\u001b[0m\u001b[0mf\u001b[0m\u001b[0;34m\u001b[0m\u001b[0m\n",
      "\u001b[0;32m~/cmi/lib/python3.5/site-packages/scipy/optimize/_differentiable_functions.py\u001b[0m in \u001b[0;36mupdate_x\u001b[0;34m(x)\u001b[0m\n\u001b[1;32m    151\u001b[0m                 \u001b[0mself\u001b[0m\u001b[0;34m.\u001b[0m\u001b[0mg_updated\u001b[0m \u001b[0;34m=\u001b[0m \u001b[0;32mFalse\u001b[0m\u001b[0;34m\u001b[0m\u001b[0m\n\u001b[1;32m    152\u001b[0m                 \u001b[0mself\u001b[0m\u001b[0;34m.\u001b[0m\u001b[0mH_updated\u001b[0m \u001b[0;34m=\u001b[0m \u001b[0;32mFalse\u001b[0m\u001b[0;34m\u001b[0m\u001b[0m\n\u001b[0;32m--> 153\u001b[0;31m                 \u001b[0mself\u001b[0m\u001b[0;34m.\u001b[0m\u001b[0m_update_hess\u001b[0m\u001b[0;34m(\u001b[0m\u001b[0;34m)\u001b[0m\u001b[0;34m\u001b[0m\u001b[0m\n\u001b[0m\u001b[1;32m    154\u001b[0m         \u001b[0;32melse\u001b[0m\u001b[0;34m:\u001b[0m\u001b[0;34m\u001b[0m\u001b[0m\n\u001b[1;32m    155\u001b[0m             \u001b[0;32mdef\u001b[0m \u001b[0mupdate_x\u001b[0m\u001b[0;34m(\u001b[0m\u001b[0mx\u001b[0m\u001b[0;34m)\u001b[0m\u001b[0;34m:\u001b[0m\u001b[0;34m\u001b[0m\u001b[0m\n",
      "\u001b[0;32m~/cmi/lib/python3.5/site-packages/scipy/optimize/_differentiable_functions.py\u001b[0m in \u001b[0;36m_update_hess\u001b[0;34m(self)\u001b[0m\n\u001b[1;32m    172\u001b[0m     \u001b[0;32mdef\u001b[0m \u001b[0m_update_hess\u001b[0m\u001b[0;34m(\u001b[0m\u001b[0mself\u001b[0m\u001b[0;34m)\u001b[0m\u001b[0;34m:\u001b[0m\u001b[0;34m\u001b[0m\u001b[0m\n\u001b[1;32m    173\u001b[0m         \u001b[0;32mif\u001b[0m \u001b[0;32mnot\u001b[0m \u001b[0mself\u001b[0m\u001b[0;34m.\u001b[0m\u001b[0mH_updated\u001b[0m\u001b[0;34m:\u001b[0m\u001b[0;34m\u001b[0m\u001b[0m\n\u001b[0;32m--> 174\u001b[0;31m             \u001b[0mself\u001b[0m\u001b[0;34m.\u001b[0m\u001b[0m_update_hess_impl\u001b[0m\u001b[0;34m(\u001b[0m\u001b[0;34m)\u001b[0m\u001b[0;34m\u001b[0m\u001b[0m\n\u001b[0m\u001b[1;32m    175\u001b[0m             \u001b[0mself\u001b[0m\u001b[0;34m.\u001b[0m\u001b[0mH_updated\u001b[0m \u001b[0;34m=\u001b[0m \u001b[0;32mTrue\u001b[0m\u001b[0;34m\u001b[0m\u001b[0m\n\u001b[1;32m    176\u001b[0m \u001b[0;34m\u001b[0m\u001b[0m\n",
      "\u001b[0;32m~/cmi/lib/python3.5/site-packages/scipy/optimize/_differentiable_functions.py\u001b[0m in \u001b[0;36mupdate_hess\u001b[0;34m()\u001b[0m\n\u001b[1;32m    136\u001b[0m \u001b[0;34m\u001b[0m\u001b[0m\n\u001b[1;32m    137\u001b[0m             \u001b[0;32mdef\u001b[0m \u001b[0mupdate_hess\u001b[0m\u001b[0;34m(\u001b[0m\u001b[0;34m)\u001b[0m\u001b[0;34m:\u001b[0m\u001b[0;34m\u001b[0m\u001b[0m\n\u001b[0;32m--> 138\u001b[0;31m                 \u001b[0mself\u001b[0m\u001b[0;34m.\u001b[0m\u001b[0m_update_grad\u001b[0m\u001b[0;34m(\u001b[0m\u001b[0;34m)\u001b[0m\u001b[0;34m\u001b[0m\u001b[0m\n\u001b[0m\u001b[1;32m    139\u001b[0m                 \u001b[0mself\u001b[0m\u001b[0;34m.\u001b[0m\u001b[0mH\u001b[0m\u001b[0;34m.\u001b[0m\u001b[0mupdate\u001b[0m\u001b[0;34m(\u001b[0m\u001b[0mself\u001b[0m\u001b[0;34m.\u001b[0m\u001b[0mx\u001b[0m \u001b[0;34m-\u001b[0m \u001b[0mself\u001b[0m\u001b[0;34m.\u001b[0m\u001b[0mx_prev\u001b[0m\u001b[0;34m,\u001b[0m \u001b[0mself\u001b[0m\u001b[0;34m.\u001b[0m\u001b[0mg\u001b[0m \u001b[0;34m-\u001b[0m \u001b[0mself\u001b[0m\u001b[0;34m.\u001b[0m\u001b[0mg_prev\u001b[0m\u001b[0;34m)\u001b[0m\u001b[0;34m\u001b[0m\u001b[0m\n\u001b[1;32m    140\u001b[0m \u001b[0;34m\u001b[0m\u001b[0m\n",
      "\u001b[0;32m~/cmi/lib/python3.5/site-packages/scipy/optimize/_differentiable_functions.py\u001b[0m in \u001b[0;36m_update_grad\u001b[0;34m(self)\u001b[0m\n\u001b[1;32m    167\u001b[0m     \u001b[0;32mdef\u001b[0m \u001b[0m_update_grad\u001b[0m\u001b[0;34m(\u001b[0m\u001b[0mself\u001b[0m\u001b[0;34m)\u001b[0m\u001b[0;34m:\u001b[0m\u001b[0;34m\u001b[0m\u001b[0m\n\u001b[1;32m    168\u001b[0m         \u001b[0;32mif\u001b[0m \u001b[0;32mnot\u001b[0m \u001b[0mself\u001b[0m\u001b[0;34m.\u001b[0m\u001b[0mg_updated\u001b[0m\u001b[0;34m:\u001b[0m\u001b[0;34m\u001b[0m\u001b[0m\n\u001b[0;32m--> 169\u001b[0;31m             \u001b[0mself\u001b[0m\u001b[0;34m.\u001b[0m\u001b[0m_update_grad_impl\u001b[0m\u001b[0;34m(\u001b[0m\u001b[0;34m)\u001b[0m\u001b[0;34m\u001b[0m\u001b[0m\n\u001b[0m\u001b[1;32m    170\u001b[0m             \u001b[0mself\u001b[0m\u001b[0;34m.\u001b[0m\u001b[0mg_updated\u001b[0m \u001b[0;34m=\u001b[0m \u001b[0;32mTrue\u001b[0m\u001b[0;34m\u001b[0m\u001b[0m\n\u001b[1;32m    171\u001b[0m \u001b[0;34m\u001b[0m\u001b[0m\n",
      "\u001b[0;32m~/cmi/lib/python3.5/site-packages/scipy/optimize/_differentiable_functions.py\u001b[0m in \u001b[0;36mupdate_grad\u001b[0;34m()\u001b[0m\n\u001b[1;32m     88\u001b[0m                 \u001b[0mself\u001b[0m\u001b[0;34m.\u001b[0m\u001b[0m_update_fun\u001b[0m\u001b[0;34m(\u001b[0m\u001b[0;34m)\u001b[0m\u001b[0;34m\u001b[0m\u001b[0m\n\u001b[1;32m     89\u001b[0m                 self.g = approx_derivative(fun_wrapped, self.x, f0=self.f,\n\u001b[0;32m---> 90\u001b[0;31m                                            **finite_diff_options)\n\u001b[0m\u001b[1;32m     91\u001b[0m \u001b[0;34m\u001b[0m\u001b[0m\n\u001b[1;32m     92\u001b[0m         \u001b[0mself\u001b[0m\u001b[0;34m.\u001b[0m\u001b[0m_update_grad_impl\u001b[0m \u001b[0;34m=\u001b[0m \u001b[0mupdate_grad\u001b[0m\u001b[0;34m\u001b[0m\u001b[0m\n",
      "\u001b[0;32m~/cmi/lib/python3.5/site-packages/scipy/optimize/_numdiff.py\u001b[0m in \u001b[0;36mapprox_derivative\u001b[0;34m(fun, x0, method, rel_step, f0, bounds, sparsity, as_linear_operator, args, kwargs)\u001b[0m\n\u001b[1;32m    382\u001b[0m         \u001b[0;32mif\u001b[0m \u001b[0msparsity\u001b[0m \u001b[0;32mis\u001b[0m \u001b[0;32mNone\u001b[0m\u001b[0;34m:\u001b[0m\u001b[0;34m\u001b[0m\u001b[0m\n\u001b[1;32m    383\u001b[0m             return _dense_difference(fun_wrapped, x0, f0, h,\n\u001b[0;32m--> 384\u001b[0;31m                                      use_one_sided, method)\n\u001b[0m\u001b[1;32m    385\u001b[0m         \u001b[0;32melse\u001b[0m\u001b[0;34m:\u001b[0m\u001b[0;34m\u001b[0m\u001b[0m\n\u001b[1;32m    386\u001b[0m             \u001b[0;32mif\u001b[0m \u001b[0;32mnot\u001b[0m \u001b[0missparse\u001b[0m\u001b[0;34m(\u001b[0m\u001b[0msparsity\u001b[0m\u001b[0;34m)\u001b[0m \u001b[0;32mand\u001b[0m \u001b[0mlen\u001b[0m\u001b[0;34m(\u001b[0m\u001b[0msparsity\u001b[0m\u001b[0;34m)\u001b[0m \u001b[0;34m==\u001b[0m \u001b[0;36m2\u001b[0m\u001b[0;34m:\u001b[0m\u001b[0;34m\u001b[0m\u001b[0m\n",
      "\u001b[0;32m~/cmi/lib/python3.5/site-packages/scipy/optimize/_numdiff.py\u001b[0m in \u001b[0;36m_dense_difference\u001b[0;34m(fun, x0, f0, h, use_one_sided, method)\u001b[0m\n\u001b[1;32m    452\u001b[0m             \u001b[0mx\u001b[0m \u001b[0;34m=\u001b[0m \u001b[0mx0\u001b[0m \u001b[0;34m+\u001b[0m \u001b[0mh_vecs\u001b[0m\u001b[0;34m[\u001b[0m\u001b[0mi\u001b[0m\u001b[0;34m]\u001b[0m\u001b[0;34m\u001b[0m\u001b[0m\n\u001b[1;32m    453\u001b[0m             \u001b[0mdx\u001b[0m \u001b[0;34m=\u001b[0m \u001b[0mx\u001b[0m\u001b[0;34m[\u001b[0m\u001b[0mi\u001b[0m\u001b[0;34m]\u001b[0m \u001b[0;34m-\u001b[0m \u001b[0mx0\u001b[0m\u001b[0;34m[\u001b[0m\u001b[0mi\u001b[0m\u001b[0;34m]\u001b[0m  \u001b[0;31m# Recompute dx as exactly representable number.\u001b[0m\u001b[0;34m\u001b[0m\u001b[0m\n\u001b[0;32m--> 454\u001b[0;31m             \u001b[0mdf\u001b[0m \u001b[0;34m=\u001b[0m \u001b[0mfun\u001b[0m\u001b[0;34m(\u001b[0m\u001b[0mx\u001b[0m\u001b[0;34m)\u001b[0m \u001b[0;34m-\u001b[0m \u001b[0mf0\u001b[0m\u001b[0;34m\u001b[0m\u001b[0m\n\u001b[0m\u001b[1;32m    455\u001b[0m         \u001b[0;32melif\u001b[0m \u001b[0mmethod\u001b[0m \u001b[0;34m==\u001b[0m \u001b[0;34m'3-point'\u001b[0m \u001b[0;32mand\u001b[0m \u001b[0muse_one_sided\u001b[0m\u001b[0;34m[\u001b[0m\u001b[0mi\u001b[0m\u001b[0;34m]\u001b[0m\u001b[0;34m:\u001b[0m\u001b[0;34m\u001b[0m\u001b[0m\n\u001b[1;32m    456\u001b[0m             \u001b[0mx1\u001b[0m \u001b[0;34m=\u001b[0m \u001b[0mx0\u001b[0m \u001b[0;34m+\u001b[0m \u001b[0mh_vecs\u001b[0m\u001b[0;34m[\u001b[0m\u001b[0mi\u001b[0m\u001b[0;34m]\u001b[0m\u001b[0;34m\u001b[0m\u001b[0m\n",
      "\u001b[0;32m~/cmi/lib/python3.5/site-packages/scipy/optimize/_numdiff.py\u001b[0m in \u001b[0;36mfun_wrapped\u001b[0;34m(x)\u001b[0m\n\u001b[1;32m    346\u001b[0m \u001b[0;34m\u001b[0m\u001b[0m\n\u001b[1;32m    347\u001b[0m     \u001b[0;32mdef\u001b[0m \u001b[0mfun_wrapped\u001b[0m\u001b[0;34m(\u001b[0m\u001b[0mx\u001b[0m\u001b[0;34m)\u001b[0m\u001b[0;34m:\u001b[0m\u001b[0;34m\u001b[0m\u001b[0m\n\u001b[0;32m--> 348\u001b[0;31m         \u001b[0mf\u001b[0m \u001b[0;34m=\u001b[0m \u001b[0mnp\u001b[0m\u001b[0;34m.\u001b[0m\u001b[0matleast_1d\u001b[0m\u001b[0;34m(\u001b[0m\u001b[0mfun\u001b[0m\u001b[0;34m(\u001b[0m\u001b[0mx\u001b[0m\u001b[0;34m,\u001b[0m \u001b[0;34m*\u001b[0m\u001b[0margs\u001b[0m\u001b[0;34m,\u001b[0m \u001b[0;34m**\u001b[0m\u001b[0mkwargs\u001b[0m\u001b[0;34m)\u001b[0m\u001b[0;34m)\u001b[0m\u001b[0;34m\u001b[0m\u001b[0m\n\u001b[0m\u001b[1;32m    349\u001b[0m         \u001b[0;32mif\u001b[0m \u001b[0mf\u001b[0m\u001b[0;34m.\u001b[0m\u001b[0mndim\u001b[0m \u001b[0;34m>\u001b[0m \u001b[0;36m1\u001b[0m\u001b[0;34m:\u001b[0m\u001b[0;34m\u001b[0m\u001b[0m\n\u001b[1;32m    350\u001b[0m             raise RuntimeError(\"`fun` return value has \"\n",
      "\u001b[0;32m~/cmi/lib/python3.5/site-packages/scipy/optimize/_differentiable_functions.py\u001b[0m in \u001b[0;36mfun_wrapped\u001b[0;34m(x)\u001b[0m\n\u001b[1;32m     67\u001b[0m         \u001b[0;32mdef\u001b[0m \u001b[0mfun_wrapped\u001b[0m\u001b[0;34m(\u001b[0m\u001b[0mx\u001b[0m\u001b[0;34m)\u001b[0m\u001b[0;34m:\u001b[0m\u001b[0;34m\u001b[0m\u001b[0m\n\u001b[1;32m     68\u001b[0m             \u001b[0mself\u001b[0m\u001b[0;34m.\u001b[0m\u001b[0mnfev\u001b[0m \u001b[0;34m+=\u001b[0m \u001b[0;36m1\u001b[0m\u001b[0;34m\u001b[0m\u001b[0m\n\u001b[0;32m---> 69\u001b[0;31m             \u001b[0;32mreturn\u001b[0m \u001b[0mfun\u001b[0m\u001b[0;34m(\u001b[0m\u001b[0mx\u001b[0m\u001b[0;34m,\u001b[0m \u001b[0;34m*\u001b[0m\u001b[0margs\u001b[0m\u001b[0;34m)\u001b[0m\u001b[0;34m\u001b[0m\u001b[0m\n\u001b[0m\u001b[1;32m     70\u001b[0m \u001b[0;34m\u001b[0m\u001b[0m\n\u001b[1;32m     71\u001b[0m         \u001b[0;32mdef\u001b[0m \u001b[0mupdate_fun\u001b[0m\u001b[0;34m(\u001b[0m\u001b[0;34m)\u001b[0m\u001b[0;34m:\u001b[0m\u001b[0;34m\u001b[0m\u001b[0m\n",
      "\u001b[0;32m<ipython-input-5-69c3d90981ea>\u001b[0m in \u001b[0;36mf_bp_p\u001b[0;34m(beta)\u001b[0m\n\u001b[1;32m     14\u001b[0m \u001b[0;31m#                     print(beta[i,j])\u001b[0m\u001b[0;34m\u001b[0m\u001b[0;34m\u001b[0m\u001b[0m\n\u001b[1;32m     15\u001b[0m                 \u001b[0;32mif\u001b[0m \u001b[0mbeta\u001b[0m\u001b[0;34m[\u001b[0m\u001b[0mi\u001b[0m\u001b[0;34m,\u001b[0m\u001b[0mj\u001b[0m\u001b[0;34m]\u001b[0m\u001b[0;34m<\u001b[0m\u001b[0;36m1\u001b[0m \u001b[0;32mand\u001b[0m \u001b[0mbeta\u001b[0m\u001b[0;34m[\u001b[0m\u001b[0mi\u001b[0m\u001b[0;34m,\u001b[0m\u001b[0mj\u001b[0m\u001b[0;34m]\u001b[0m\u001b[0;34m>\u001b[0m\u001b[0;36m0\u001b[0m \u001b[0;32mand\u001b[0m \u001b[0mP\u001b[0m\u001b[0;34m[\u001b[0m\u001b[0mi\u001b[0m\u001b[0;34m,\u001b[0m\u001b[0mj\u001b[0m\u001b[0;34m]\u001b[0m\u001b[0;34m>\u001b[0m\u001b[0;36m0\u001b[0m\u001b[0;34m:\u001b[0m\u001b[0;34m\u001b[0m\u001b[0m\n\u001b[0;32m---> 16\u001b[0;31m                     \u001b[0mz\u001b[0m\u001b[0;34m+=\u001b[0m\u001b[0mbeta\u001b[0m\u001b[0;34m[\u001b[0m\u001b[0mi\u001b[0m\u001b[0;34m,\u001b[0m\u001b[0mj\u001b[0m\u001b[0;34m]\u001b[0m\u001b[0;34m*\u001b[0m\u001b[0mnp\u001b[0m\u001b[0;34m.\u001b[0m\u001b[0mlog\u001b[0m\u001b[0;34m(\u001b[0m\u001b[0mbeta\u001b[0m\u001b[0;34m[\u001b[0m\u001b[0mi\u001b[0m\u001b[0;34m,\u001b[0m\u001b[0mj\u001b[0m\u001b[0;34m]\u001b[0m\u001b[0;34m/\u001b[0m\u001b[0mP\u001b[0m\u001b[0;34m[\u001b[0m\u001b[0mi\u001b[0m\u001b[0;34m,\u001b[0m\u001b[0mj\u001b[0m\u001b[0;34m]\u001b[0m\u001b[0;34m)\u001b[0m\u001b[0;34m-\u001b[0m\u001b[0;34m(\u001b[0m\u001b[0;36m1\u001b[0m\u001b[0;34m-\u001b[0m\u001b[0mbeta\u001b[0m\u001b[0;34m[\u001b[0m\u001b[0mi\u001b[0m\u001b[0;34m,\u001b[0m\u001b[0mj\u001b[0m\u001b[0;34m]\u001b[0m\u001b[0;34m)\u001b[0m\u001b[0;34m*\u001b[0m\u001b[0mnp\u001b[0m\u001b[0;34m.\u001b[0m\u001b[0mlog\u001b[0m\u001b[0;34m(\u001b[0m\u001b[0;36m1\u001b[0m\u001b[0;34m-\u001b[0m\u001b[0mbeta\u001b[0m\u001b[0;34m[\u001b[0m\u001b[0mi\u001b[0m\u001b[0;34m,\u001b[0m\u001b[0mj\u001b[0m\u001b[0;34m]\u001b[0m\u001b[0;34m)\u001b[0m\u001b[0;34m\u001b[0m\u001b[0m\n\u001b[0m\u001b[1;32m     17\u001b[0m \u001b[0;31m#                     print(z)\u001b[0m\u001b[0;34m\u001b[0m\u001b[0;34m\u001b[0m\u001b[0m\n\u001b[1;32m     18\u001b[0m \u001b[0;34m\u001b[0m\u001b[0m\n",
      "\u001b[0;31mKeyboardInterrupt\u001b[0m: "
     ]
    }
   ],
   "source": [
    "x=5\n",
    "np.random.seed(0)\n",
    "rnd=np.random.randint(1000)\n",
    "\n",
    "for nsz in range(2,10):\n",
    "    data=np.zeros((x,4))\n",
    "    np.random.seed(rnd+nsz)\n",
    "    sd=np.random.randint(1000)\n",
    "    for s in range(x):\n",
    "        np.random.seed(sd+s);\n",
    "        P=np.random.randint(100,size=(nsz,20));\n",
    "        temp=np.random.rand(P.shape[0],P.shape[1]);\n",
    "        for i in range(P.shape[0]):\n",
    "            for j in range(P.shape[1]):\n",
    "                if P[i,j]==0:\n",
    "                    temp[i,j]=0\n",
    "\n",
    "        sk = SinkhornKnoppR()\n",
    "        temp_ds=sk.fit(temp);\n",
    "        f=f_bp(P);\n",
    "        m=constraint_matrix(P.shape[0],P.shape[1]);\n",
    "        b=np.append([np.ones(P.shape[0])], [(P.shape[0]/P.shape[1])*np.ones(P.shape[1])]);\n",
    "        linear_constraint=LinearConstraint(m,b,b)\n",
    "        bounds = Bounds(0,1);[(P.shape[0]/P.shape[1])*np.ones(P.shape[1])]\n",
    "\n",
    "        res = minimize(f, temp_ds.flatten(), method='trust-constr',constraints=[linear_constraint],\n",
    "                       options={'verbose': 0, 'maxiter':1000, 'xtol':1e-8}, bounds=bounds)\n",
    "\n",
    "        t=(res.x).reshape(P.shape[0],P.shape[1])\n",
    "        print(nsz,s)\n",
    "        lb=np.exp(-f(t));print('lb: ', lb)\n",
    "        ub=np.exp(-f(t))*(2**P.shape[0]);print('ub: ',ub)\n",
    "        per=permanent(P);print('per:',per)\n",
    "        print('ratio: ',np.log(per/lb))\n",
    "        if lb<=per<=ub:\n",
    "            print(True)\n",
    "        else:\n",
    "            print(False)\n",
    "        data[s][0]=lb\n",
    "        data[s][1]=per\n",
    "        data[s][2]=np.log(per/lb)\n",
    "        \n",
    "#     np.save('recdata_per_'+str(nsz)+'x8',data)"
   ]
  },
  {
   "cell_type": "code",
   "execution_count": 3,
   "metadata": {},
   "outputs": [
    {
     "name": "stdout",
     "output_type": "stream",
     "text": [
      "n x 20, log_2(permanent/bethe)\n",
      "2 [2.12200199 2.34085168 2.22003451 2.02001501 2.06832992]\n",
      "3 [3.0782564  2.98171849 2.88705727 2.97635083 2.88269356]\n",
      "4 [3.81903994 3.69227422 3.91749424 3.77767584 3.66804381]\n",
      "5 [4.46997285 4.45050437 4.48742504 4.53379769 4.51953024]\n",
      "6 [5.12949594 5.11042022 5.32027569 5.1294577  5.25690383]\n",
      "7 [5.71451547 5.70962237 5.73029736 5.79168611 5.77434521]\n",
      "8 [6.35160565 6.28168256 6.32915938 6.28123565 6.23844069]\n",
      "9 [6.79095566 6.720445   6.78162385 6.72631602 6.77099628]\n",
      "10 [7.05948458 7.1292291 ]\n",
      "11 [7.36743333 7.3685987 ]\n",
      "12 [7.55009927 7.56997148]\n",
      "13 [7.72146221 7.65810379]\n",
      "14 [7.54750278 8.22572586]\n",
      "15 [7.2665323  7.29558576]\n",
      "16 [6.93595292 6.91920016]\n",
      "17 [6.32420807 6.30336669]\n",
      "18 [5.63402716 7.07970354]\n",
      "19 [3.95472021 3.93274911]\n",
      "20 [6.02310363 2.37241397]\n"
     ]
    }
   ],
   "source": [
    "print('n x 20, log_2(permanent/bethe)')\n",
    "# print('n x 20, ln(permanent/bethe)')\n",
    "for i in range(2,21):\n",
    "    data=np.load('recdata_per_'+str(i)+'x8.npy')\n",
    "#     print(i)\n",
    "#     print(data)\n",
    "#     print(i, np.log2(np.exp(data[:,2])))\n",
    "    print(i,data[:,2])"
   ]
  },
  {
   "cell_type": "code",
   "execution_count": 36,
   "metadata": {},
   "outputs": [
    {
     "name": "stdout",
     "output_type": "stream",
     "text": [
      "n x 10, log_2(permanent/bethe)\n",
      "2 [3.55490336 3.08186945]\n",
      "3 [3.66580443 3.80432655]\n",
      "4 [4.80683956 4.65585296]\n",
      "5 [5.25112295 5.19444356]\n",
      "6 [5.56323546 5.56078804]\n",
      "7 [5.5701377  5.55740887]\n",
      "8 [5.1833171  5.17975432]\n",
      "9 [4.22795663 4.31617138]\n"
     ]
    }
   ],
   "source": [
    "print('n x 10, log_2(permanent/bethe)')\n",
    "# print('n x 20, ln(permanent/bethe)')\n",
    "for i in range(2,10):\n",
    "    data=np.load('recdata_per_'+str(i)+'x10.npy')\n",
    "#     print(i)\n",
    "#     print(data)\n",
    "    print(i, np.log2(np.exp(data[:,2])))\n",
    "#     print(i,data[:,2])"
   ]
  }
 ],
 "metadata": {
  "kernelspec": {
   "display_name": "Python 3",
   "language": "python",
   "name": "python3"
  },
  "language_info": {
   "codemirror_mode": {
    "name": "ipython",
    "version": 3
   },
   "file_extension": ".py",
   "mimetype": "text/x-python",
   "name": "python",
   "nbconvert_exporter": "python",
   "pygments_lexer": "ipython3",
   "version": "3.5.2"
  },
  "varInspector": {
   "cols": {
    "lenName": 16,
    "lenType": 16,
    "lenVar": 40
   },
   "kernels_config": {
    "python": {
     "delete_cmd_postfix": "",
     "delete_cmd_prefix": "del ",
     "library": "var_list.py",
     "varRefreshCmd": "print(var_dic_list())"
    },
    "r": {
     "delete_cmd_postfix": ") ",
     "delete_cmd_prefix": "rm(",
     "library": "var_list.r",
     "varRefreshCmd": "cat(var_dic_list()) "
    }
   },
   "types_to_exclude": [
    "module",
    "function",
    "builtin_function_or_method",
    "instance",
    "_Feature"
   ],
   "window_display": false
  }
 },
 "nbformat": 4,
 "nbformat_minor": 2
}
