{
 "cells": [
  {
   "cell_type": "code",
   "execution_count": 12,
   "metadata": {},
   "outputs": [],
   "source": [
    "import numpy as np\n",
    "from scipy.special import comb"
   ]
  },
  {
   "cell_type": "code",
   "execution_count": 13,
   "metadata": {},
   "outputs": [],
   "source": [
    "def permanent(A):\n",
    "    assert(len(A.shape)==2),\"Input should be a 2D matrix\"\n",
    "    assert(A.shape[0]==A.shape[1]),\"Input should be a square matrix\"\n",
    "    \n",
    "    perm=np.float128(0)\n",
    "    n=A.shape[1]\n",
    "    C=2**n\n",
    "    \n",
    "    for k in range(1,C):\n",
    "        rowsumprod=np.float128(1)\n",
    "        chi=np.array(list(np.binary_repr(k))).astype(np.float128)\n",
    "        for m in range(0,n):\n",
    "            rowsum=np.float128(0)\n",
    "            \n",
    "            for p in range(0,len(chi)):\n",
    "                rowsum += chi[p]*A[m,len(chi)-p-1]\n",
    "            \n",
    "            rowsumprod *= rowsum\n",
    "            \n",
    "        perm += ((-1)**(n-chi.sum()))*rowsumprod\n",
    "    \n",
    "    return perm"
   ]
  },
  {
   "cell_type": "code",
   "execution_count": 14,
   "metadata": {},
   "outputs": [],
   "source": [
    "def belief_prop(P,max_iter=50, eps=0.1):\n",
    "    n=P.shape[0]\n",
    "    phi=np.sqrt(P)\n",
    "    m_x2y=np.ones((n,n,n),dtype=np.float128) \n",
    "    m_y2x=np.ones((n,n,n),dtype=np.float128) \n",
    "    m_x2y_new=np.ones((n,n,n),dtype=np.float128) \n",
    "    m_y2x_new=np.ones((n,n,n),dtype=np.float128) \n",
    "    belief_xy=np.zeros((n,n,n,n),dtype=np.float128)#belief_xy(i,j,xi,yj) is the value of b(x_i,y_j) for a given value of x_i and y_j\n",
    "    belief_x=np.zeros((n,n),dtype=np.float128)\n",
    "    belief_y=np.zeros((n,n),dtype=np.float128)\n",
    "    \n",
    "    \n",
    "    for t in range(max_iter):\n",
    "        \n",
    "        #m_x2y_new\n",
    "        for i in range(n):\n",
    "            for j in range(n):\n",
    "                for yj in range(n):\n",
    "                    sum_xi=0             #sum over all x_i\n",
    "                    for xi in range(n):\n",
    "#                         print(i,j,xi,yj,not((xi==j)!=(yj==i)))\n",
    "                        if not((xi==j)!=(yj==i)): # if psi(x_i,y_j) is non zero\n",
    "                            prod_m_yk2xi=1     # prod_{k!=j}m_{y_k}(x_i)\n",
    "                            for k in range(n):\n",
    "                                if k!=j:\n",
    "                                    prod_m_yk2xi*=m_y2x[k,i,xi]\n",
    "                            sum_xi+=phi[i,xi]*prod_m_yk2xi  # the whole summation (over x_i)\n",
    "                    m_x2y_new[i,j,yj]=sum_xi # message from x_i to y_j for a particular value of y_j\n",
    "#                     print(i,j,yj,sum_xi)\n",
    "        m_x2y_new=m_x2y_new/np.sum(m_x2y_new) #normalization\n",
    "        \n",
    "        #m_y2x_new\n",
    "        for j in range(n):\n",
    "            for i in range(n):\n",
    "                for xi in range(n):\n",
    "                    sum_yj=0            \n",
    "                    for yj in range(n):        \n",
    "                        if not((xi==j)!=(yj==i)): \n",
    "                            prod_m_xk2yj=1     \n",
    "                            for k in range(n):\n",
    "                                if k!=i:\n",
    "                                    prod_m_xk2yj*=m_x2y[k,j,yj]\n",
    "                            sum_yj+=phi[yj,j]*prod_m_xk2yj  \n",
    "                    m_y2x_new[j,i,xi]=sum_yj         \n",
    "        m_y2x_new=m_y2x_new/np.sum(m_y2x_new)#normalization\n",
    "        \n",
    "        \n",
    "        #update using log rule\n",
    "        for i in range(n):\n",
    "            for j in range(n):\n",
    "                for yj in range(n):\n",
    "                    m_x2y[i,j,yj]=np.exp(np.log(m_x2y[i,j,yj]) + eps*(np.log(m_x2y_new[i,j,yj]) - np.log(m_x2y[i,j,yj])))\n",
    "#                     print(\"#\",i,j,yj,(m_x2y[i,j,yj]),(m_x2y_new[i,j,yj]))\n",
    "                    \n",
    "        for j in range(n):\n",
    "            for i in range(n):\n",
    "                for xi in range(n):\n",
    "                    m_y2x[j,i,xi]=np.exp(np.log(m_y2x[j,i,xi]) + eps*(np.log(m_y2x_new[j,i,xi]) - np.log(m_y2x[j,i,xi])))                   \n",
    "                    \n",
    "        m_x2y=m_x2y/np.sum(m_x2y) #normalization\n",
    "        m_y2x=m_y2x/np.sum(m_y2x)#normalization\n",
    "\n",
    "        \n",
    "#         print(t, np.sum(np.abs(m_y2x-m_y2x_new)))\n",
    "\n",
    "    #compute joint beliefs for each i,j and for each value of x_i and y_j\n",
    "#     for i in range(n):\n",
    "#         for j in range(n):\n",
    "#             for xi in range(n):\n",
    "#                 for yj in range(n):\n",
    "#                     if not((xi==j)!=(yj==i)):\n",
    "#                         prod_m_yk2xi=1     # prod_{k!=j}m_{y_k}(x_i)\n",
    "#                         prod_m_xl2yj=1\n",
    "#                         for k in range(n):\n",
    "#                             if k!=j:\n",
    "#                                 prod_m_yk2xi*=m_y2x[k,i,xi]\n",
    "#                         for l in range(n):\n",
    "#                             if l!=i:\n",
    "#                                 prod_m_xl2yj*=m_x2y[l,j,yj]\n",
    "#                         belief_xy[i,j,xi,yj]=phi[i,xi]*phi[yj,j]*prod_m_yk2xi*prod_m_xl2yj\n",
    "\n",
    "                    \n",
    "    \n",
    "#     # normalize the joint beliefs                    \n",
    "#     for i in range(n):\n",
    "#         for j in range(n):\n",
    "#             belief_xy[i,j,:,:]=belief_xy[i,j,:,:]/np.sum(belief_xy[i,j,:,:])\n",
    "    \n",
    "    #compute single node beliefs\n",
    "    for i in range(n):\n",
    "        for xi in range(n):\n",
    "            prod_m_yk2xi=1\n",
    "            for k in range(n):\n",
    "                prod_m_yk2xi*=m_y2x[k,i,xi]\n",
    "            belief_x[i,xi]=phi[i,xi]*prod_m_yk2xi\n",
    "    \n",
    "    for j in range(n):\n",
    "        for yj in range(n):\n",
    "            prod_m_xl2yj=1\n",
    "            for l in range(n):\n",
    "                prod_m_xl2yj*=m_x2y[l,j,yj]\n",
    "            belief_y[j,yj]=phi[yj,j]*prod_m_xl2yj\n",
    "            \n",
    "    belief_xy=np.zeros((n,n,n,n),dtype=np.float128)\n",
    "    for i in range(n):\n",
    "        for j in range(n):\n",
    "            for xi in range(n):\n",
    "                for yj in range(n):\n",
    "                    if not((xi==j)!=(yj==i)):\n",
    "                        belief_xy[i,j,xi,yj]=belief_x[i,xi]*belief_y[j,yj]/(m_x2y[i,j,yj]*m_y2x[j,i,xi])\n",
    "                    else:\n",
    "                        belief_xy[i,j,xi,yj]=0\n",
    "    \n",
    "    for i in range(n):\n",
    "        for j in range(n):\n",
    "            belief_xy[i,j,:,:]=belief_xy[i,j,:,:]/np.sum(belief_xy[i,j,:,:])\n",
    "    \n",
    "    #normalize single node beliefs\n",
    "    for i in range(n):\n",
    "        belief_x[i,:]=belief_x[i,:]/np.sum(belief_x[i,:])\n",
    "            \n",
    "    for j in range(n):\n",
    "        belief_y[j,:]=belief_y[j,:]/np.sum(belief_y[j,:])\n",
    "        \n",
    "#     belief_xy=belief_xy/n\n",
    "#     belief_x=belief_x/(n)\n",
    "#     belief_y=belief_y/(n)\n",
    "        \n",
    "    return m_x2y,m_y2x,belief_xy,belief_x,belief_y,(np.sum(np.abs(m_y2x-m_y2x_new))<1e-10),np.sum(np.abs(m_y2x-m_y2x_new))"
   ]
  },
  {
   "cell_type": "code",
   "execution_count": 15,
   "metadata": {},
   "outputs": [],
   "source": [
    "def bfe(P,belief_xy,belief_x,belief_y,m_x2y,m_y2x):\n",
    "        \n",
    "    t1=t2=t3=t4=t5=t6=0\n",
    "    n=P.shape[0]\n",
    "#     belief_x=np.zeros((n,n),dtype=float)\n",
    "#     belief_y=np.zeros((n,n),dtype=float)\n",
    "    phi=np.sqrt(P)\n",
    "    \n",
    "#     belief_xy=np.zeros((n,n,n,n),dtype=np.float128)\n",
    "#     for i in range(n):\n",
    "#         for j in range(n):\n",
    "#             belief_xy[i,j,:,:]=np.outer(belief_x[i,:],belief_y[j,:])/(m_x2y[i,j]*m_y2x[j,i])\n",
    "#     for i in range(n):\n",
    "#         for j in range(n):\n",
    "#             belief_xy[i,j,:,:]=belief_xy[i,j,:,:]/np.sum(belief_xy[i,j,:,:])\n",
    "\n",
    "    \n",
    "#     for i in range(n):\n",
    "#         belief_x[i,:]=np.sum(belief_xy[i,0],axis=1)\n",
    "#         belief_y[i,:]=np.sum(belief_xy[0,i],axis=0)\n",
    "        \n",
    "    for i in range(n):\n",
    "        for j in range(n):\n",
    "            for xi in range(n):\n",
    "                for yj in range(n):\n",
    "                    if belief_xy[i,j,xi,yj]!=0 and not((xi==j)!=(yj==i)):\n",
    "                        t1+=belief_xy[i,j,xi,yj]*np.log(phi[i,xi]*phi[yj,j])\n",
    "                        t2+=belief_xy[i,j,xi,yj]*np.log(belief_xy[i,j,xi,yj])\n",
    "    \n",
    "    for i in range(n):\n",
    "        for xi in range(n):\n",
    "            if belief_x[i,xi]!=0:\n",
    "                t3+=belief_x[i,xi]*np.log(belief_x[i,xi])\n",
    "                t5+=belief_x[i,xi]*np.log(phi[i,xi])\n",
    "                                          \n",
    "    for j in range(n):\n",
    "        for yj in range(n):\n",
    "            if belief_y[j,yj]!=0:\n",
    "                t4+=belief_y[j,yj]*np.log(belief_y[j,yj])\n",
    "                t6+=belief_y[j,yj]*np.log(phi[yj,j])\n",
    "    \n",
    "#     print('t1', -t1)    \n",
    "#     print('t2', t2)\n",
    "#     print('t3', -(n-1)*t3)\n",
    "#     print('t4', -(n-1)*t4)\n",
    "#     print('t5', (n-1)*t5)\n",
    "#     print('t6', (n-1)*t6)\n",
    "    energy=-t1+t2-(n-1)*t3-(n-1)*t4+(n-1)*t5+(n-1)*t6\n",
    "#     print(energy)\n",
    "    return np.exp(-energy)"
   ]
  },
  {
   "cell_type": "code",
   "execution_count": 22,
   "metadata": {},
   "outputs": [],
   "source": [
    "def f_bp(P):\n",
    "    \n",
    "    def f_bp_p(beta):\n",
    "        n=P.shape[1]\n",
    "        z=0\n",
    "#         print(beta.sum())\n",
    "        beta=beta.reshape(n,n)\n",
    "#         print(beta)\n",
    "        for i in range(n):\n",
    "            for j in range(n):\n",
    "                \n",
    "#                 if beta[i,j]<0:\n",
    "#                     print(beta[i,j])\n",
    "                if beta[i,j]!=0 and beta[i,j]!=1 and beta[i,j]>0 and P[i,j]>0: \n",
    "                    z+=beta[i,j]*np.log(beta[i,j]/P[i,j])-(1-beta[i,j])*np.log(1-beta[i,j])\n",
    "#                 print((beta[i,j]/P[i,j]))\n",
    "        return z\n",
    "    return f_bp_p"
   ]
  },
  {
   "cell_type": "code",
   "execution_count": 29,
   "metadata": {
    "scrolled": true
   },
   "outputs": [
    {
     "name": "stdout",
     "output_type": "stream",
     "text": [
      "Perm: \t 2.6790026134057470919e+22\n",
      "Bethe: \t 7.028723468426812217e+21\n",
      "Bounds: \t True\n",
      "Convergence: \t True\n",
      "\n",
      "Chertkov\n",
      "Bethe WC: \t 7.028723468700632373e+21\n",
      "Bounds: \t True\n",
      "Difference: \t 3.8957309622532854495e-11\n"
     ]
    }
   ],
   "source": [
    "np.random.seed(69)\n",
    "P=np.random.randint(1000,size=(7,7))+1; #non zero elements\n",
    "# P=np.ones((5,5))\n",
    "m_x2y,m_y2x,belief_xy,belief_x,belief_y,conv,conv_value=belief_prop(P,300)\n",
    "\n",
    "perm_bethe=bfe(P,belief_xy,belief_x,belief_y,m_x2y,m_y2x)\n",
    "perm=permanent(P)\n",
    "ub=perm_bethe*np.sqrt(2)**P.shape[0]\n",
    "\n",
    "print(\"Perm: \\t\",perm)\n",
    "print(\"Bethe: \\t\" ,perm_bethe)\n",
    "print(\"Bounds: \\t\",perm_bethe<perm<ub)\n",
    "print(\"Convergence: \\t\",conv)\n",
    "if not conv:\n",
    "    print(\"Conv Value: \", conv_value)\n",
    "print()\n",
    "print(\"Chertkov\")\n",
    "f=f_bp(P)\n",
    "perm_bethe_wc=np.exp(-f(belief_x))\n",
    "ub_wc=perm_bethe_wc*np.sqrt(2)**P.shape[0]\n",
    "print(\"Bethe WC: \\t\" ,perm_bethe_wc)\n",
    "print(\"Bounds: \\t\",perm_bethe_wc<perm<ub_wc)\n",
    "print(\"Difference: \\t\", np.abs(perm_bethe-perm_bethe_wc))\n",
    "print(\"Difference %: \\t\", np.abs(perm_bethe-perm_bethe_wc)/((perm_bethe+perm_bethe_wc)/2))"
   ]
  },
  {
   "cell_type": "code",
   "execution_count": 21,
   "metadata": {},
   "outputs": [
    {
     "data": {
      "text/plain": [
       "-244.46264293603599072"
      ]
     },
     "execution_count": 21,
     "metadata": {},
     "output_type": "execute_result"
    }
   ],
   "source": [
    "#relation between chertkov and hj"
   ]
  },
  {
   "cell_type": "code",
   "execution_count": 11,
   "metadata": {},
   "outputs": [
    {
     "data": {
      "text/plain": [
       "array([[0.0179236 , 0.28138636, 0.25659671, 0.08526026, 0.35883307],\n",
       "       [0.21550912, 0.34044494, 0.28208485, 0.03039895, 0.13156214],\n",
       "       [0.36442671, 0.10496507, 0.10703008, 0.01006182, 0.41351632],\n",
       "       [0.24586882, 0.00685304, 0.13033512, 0.5960525 , 0.02089052],\n",
       "       [0.15627175, 0.26635059, 0.22395323, 0.27822649, 0.07519794]],\n",
       "      dtype=float128)"
      ]
     },
     "execution_count": 11,
     "metadata": {},
     "output_type": "execute_result"
    }
   ],
   "source": [
    "belief_y"
   ]
  },
  {
   "cell_type": "code",
   "execution_count": 29,
   "metadata": {},
   "outputs": [
    {
     "data": {
      "text/plain": [
       "array([[ 93.,  55.,  57.,  23.,  66.,  23.,  53.,  60.,  41.,  92.],\n",
       "       [ 34.,  94.,  93.,   1.,  61.,  60.,  89.,  75.,  57.,  94.],\n",
       "       [ 63.,  13.,  19.,  87.,  57.,   2.,  57., 100.,  12.,  38.],\n",
       "       [ 20.,  10.,  81.,  57.,  50.,  64.,  14.,  60.,  59.,  34.],\n",
       "       [ 78.,  94.,  55.,  64.,  23.,  51.,  41.,   5., 100.,  53.],\n",
       "       [  1.,   1.,   1.,   1.,   1.,   1.,   1.,   1.,   1.,   1.],\n",
       "       [  1.,   1.,   1.,   1.,   1.,   1.,   1.,   1.,   1.,   1.],\n",
       "       [  1.,   1.,   1.,   1.,   1.,   1.,   1.,   1.,   1.,   1.],\n",
       "       [  1.,   1.,   1.,   1.,   1.,   1.,   1.,   1.,   1.,   1.],\n",
       "       [  1.,   1.,   1.,   1.,   1.,   1.,   1.,   1.,   1.,   1.]])"
      ]
     },
     "execution_count": 29,
     "metadata": {},
     "output_type": "execute_result"
    }
   ],
   "source": [
    "np.random.seed(9)\n",
    "P=np.random.randint(100,size=(5,10))+1; #non zero elements\n",
    "# P=np.ones((5,5))\n",
    "n=P.shape[0]\n",
    "m=P.shape[1]\n",
    "Q=np.ones((m-n,m))\n",
    "P=np.append(P,Q,axis=0);\n",
    "P"
   ]
  },
  {
   "cell_type": "code",
   "execution_count": null,
   "metadata": {},
   "outputs": [],
   "source": [
    "m_x2y,m_y2x,belief_xy,belief_x,belief_y,conv,conv_value=belief_prop(P,100)"
   ]
  },
  {
   "cell_type": "code",
   "execution_count": 34,
   "metadata": {},
   "outputs": [
    {
     "name": "stdout",
     "output_type": "stream",
     "text": [
      "Perm: \t 13394705527549.0\n",
      "Bethe: \t 2836502600587.843429\n",
      "ub: \t 16045681789831.535839\n",
      "Bounds: \t True\n",
      "Convergence: \t False\n",
      "Conv Value:  0.0005326398239666902556\n"
     ]
    }
   ],
   "source": [
    "perm_bethe=bfe(P,belief_xy,belief_x,belief_y,m_x2y,m_y2x)/120\n",
    "perm=permanent(P)/120\n",
    "ub=perm_bethe*np.sqrt(2)**5\n",
    "\n",
    "print(\"Perm: \\t\",perm)\n",
    "print(\"Bethe: \\t\" ,perm_bethe)\n",
    "print(\"ub: \\t\", ub)\n",
    "print(\"Bounds: \\t\",perm_bethe<perm<ub)\n",
    "print(\"Convergence: \\t\",conv)\n",
    "if not conv:\n",
    "    print(\"Conv Value: \", conv_value)"
   ]
  },
  {
   "cell_type": "code",
   "execution_count": null,
   "metadata": {},
   "outputs": [],
   "source": []
  }
 ],
 "metadata": {
  "kernelspec": {
   "display_name": "Python 3",
   "language": "python",
   "name": "python3"
  },
  "language_info": {
   "codemirror_mode": {
    "name": "ipython",
    "version": 3
   },
   "file_extension": ".py",
   "mimetype": "text/x-python",
   "name": "python",
   "nbconvert_exporter": "python",
   "pygments_lexer": "ipython3",
   "version": "3.5.2"
  }
 },
 "nbformat": 4,
 "nbformat_minor": 2
}
